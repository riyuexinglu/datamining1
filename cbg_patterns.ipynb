{
 "cells": [
  {
   "cell_type": "markdown",
   "metadata": {},
   "source": [
    "## 导入模块"
   ]
  },
  {
   "cell_type": "code",
   "execution_count": 1,
   "metadata": {},
   "outputs": [],
   "source": [
    "import pandas as pd\n",
    "import seaborn as sns\n",
    "import matplotlib.pyplot as plt\n",
    "import missingno as msno"
   ]
  },
  {
   "cell_type": "markdown",
   "metadata": {},
   "source": [
    "## 读取数据集"
   ]
  },
  {
   "cell_type": "code",
   "execution_count": 2,
   "metadata": {},
   "outputs": [],
   "source": [
    "data = pd.read_csv('cbg_patterns.csv')"
   ]
  },
  {
   "cell_type": "markdown",
   "metadata": {},
   "source": [
    "## 查看数据前五行"
   ]
  },
  {
   "cell_type": "code",
   "execution_count": 3,
   "metadata": {},
   "outputs": [
    {
     "name": "stdout",
     "output_type": "stream",
     "text": [
      "   census_block_group  date_range_start  date_range_end  raw_visit_count  \\\n",
      "0        1.005951e+10        1538352000      1541030400          75122.0   \n",
      "1        1.009051e+10        1538352000      1541030400          95649.0   \n",
      "2        1.047957e+10        1538352000      1541030400          14009.0   \n",
      "3        1.069040e+10        1538352000      1541030400         128169.0   \n",
      "4        1.073011e+10        1538352000      1541030400          51453.0   \n",
      "\n",
      "   raw_visitor_count                                  visitor_home_cbgs  \\\n",
      "0            18314.0  {\"010059501003\":127,\"010059509001\":111,\"010059...   \n",
      "1            38942.0  {\"010730113021\":210,\"010090506022\":205,\"010090...   \n",
      "2             3039.0              {\"010479567011\":67,\"010479567021\":60}   \n",
      "3            25418.0  {\"010690402013\":370,\"010690402011\":322,\"010690...   \n",
      "4             9499.0  {\"010090507001\":183,\"010730113021\":167,\"010730...   \n",
      "\n",
      "                                   visitor_work_cbgs  distance_from_home  \\\n",
      "0  {\"010059501003\":109,\"010810407002\":62,\"0108104...            194724.0   \n",
      "1  {\"010890111001\":271,\"010730045001\":269,\"010439...            120587.0   \n",
      "2                                {\"010479567021\":52}             67774.0   \n",
      "3  {\"010690402024\":313,\"010690415004\":203,\"010450...             42684.0   \n",
      "4  {\"010730045001\":140,\"010730027001\":123,\"010730...             18878.0   \n",
      "\n",
      "                              related_same_day_brand  \\\n",
      "0  [\"Chick-fil-A\",\"mcdonalds\",\"Marathon Petroleum...   \n",
      "1  [\"Shell Oil\",\"mcdonalds\",\"Chick-fil-A\",\"Chevron\"]   \n",
      "2                                 [\"Dollar General\"]   \n",
      "3  [\"Chick-fil-A\",\"Sam's Club\",\"Dollar General\",\"...   \n",
      "4            [\"Chevron\",\"Daylight Donuts\",\"walmart\"]   \n",
      "\n",
      "                            related_same_month_brand  \\\n",
      "0  [\"walmart\",\"mcdonalds\",\"Dollar General\",\"Chick...   \n",
      "1  [\"walmart\",\"mcdonalds\",\"Shell Oil\",\"Chick-fil-...   \n",
      "2  [\"walmart\",\"Dollar General\",\"mcdonalds\",\"Chevr...   \n",
      "3  [\"walmart\",\"Dollar General\",\"mcdonalds\",\"Marat...   \n",
      "4  [\"walmart\",\"Chevron\",\"Dollar General\",\"Shell O...   \n",
      "\n",
      "                                          top_brands  \\\n",
      "0       [\"CrossFit\",\"Health Mart\",\"Coldwell Banker\"]   \n",
      "1                                                 []   \n",
      "2                                 [\"Dollar General\"]   \n",
      "3  [\"Chick-fil-A\",\"Sam's Club\",\"Olive Garden\",\"mc...   \n",
      "4                             [\"Chevron\",\"CrossFit\"]   \n",
      "\n",
      "                                  popularity_by_hour  \\\n",
      "0  [2617,2457,2403,2519,2646,3007,3886,7566,5508,...   \n",
      "1  [6556,6325,6222,6355,6586,7350,8568,8099,7378,...   \n",
      "2  [807,790,796,786,851,951,1134,1797,1355,1241,1...   \n",
      "3  [2121,1828,1784,1704,1861,2373,3730,7497,7093,...   \n",
      "4  [3804,3716,3686,3672,3735,4115,4855,5946,4526,...   \n",
      "\n",
      "                                   popularity_by_day  \n",
      "0  {\"Monday\":12000,\"Tuesday\":12224,\"Wednesday\":10...  \n",
      "1  {\"Monday\":12125,\"Tuesday\":12984,\"Wednesday\":12...  \n",
      "2  {\"Monday\":2314,\"Tuesday\":2340,\"Wednesday\":2195...  \n",
      "3  {\"Monday\":21141,\"Tuesday\":21143,\"Wednesday\":17...  \n",
      "4  {\"Monday\":8402,\"Tuesday\":8414,\"Wednesday\":8550...  \n"
     ]
    }
   ],
   "source": [
    "print(data.head())"
   ]
  },
  {
   "cell_type": "markdown",
   "metadata": {},
   "source": [
    "## 查看数据类型"
   ]
  },
  {
   "cell_type": "code",
   "execution_count": 4,
   "metadata": {},
   "outputs": [
    {
     "name": "stdout",
     "output_type": "stream",
     "text": [
      "<class 'pandas.core.frame.DataFrame'>\n",
      "RangeIndex: 220735 entries, 0 to 220734\n",
      "Data columns (total 13 columns):\n",
      " #   Column                    Non-Null Count   Dtype  \n",
      "---  ------                    --------------   -----  \n",
      " 0   census_block_group        220734 non-null  float64\n",
      " 1   date_range_start          220735 non-null  int64  \n",
      " 2   date_range_end            220735 non-null  int64  \n",
      " 3   raw_visit_count           220629 non-null  float64\n",
      " 4   raw_visitor_count         220629 non-null  float64\n",
      " 5   visitor_home_cbgs         220735 non-null  object \n",
      " 6   visitor_work_cbgs         220735 non-null  object \n",
      " 7   distance_from_home        220518 non-null  float64\n",
      " 8   related_same_day_brand    220735 non-null  object \n",
      " 9   related_same_month_brand  220735 non-null  object \n",
      " 10  top_brands                220735 non-null  object \n",
      " 11  popularity_by_hour        220735 non-null  object \n",
      " 12  popularity_by_day         220735 non-null  object \n",
      "dtypes: float64(4), int64(2), object(7)\n",
      "memory usage: 21.9+ MB\n",
      "None\n"
     ]
    }
   ],
   "source": [
    "print(data.info())"
   ]
  },
  {
   "cell_type": "markdown",
   "metadata": {},
   "source": [
    "## 切片其中几列做分析"
   ]
  },
  {
   "cell_type": "code",
   "execution_count": 5,
   "metadata": {},
   "outputs": [
    {
     "data": {
      "text/html": [
       "<div>\n",
       "<style scoped>\n",
       "    .dataframe tbody tr th:only-of-type {\n",
       "        vertical-align: middle;\n",
       "    }\n",
       "\n",
       "    .dataframe tbody tr th {\n",
       "        vertical-align: top;\n",
       "    }\n",
       "\n",
       "    .dataframe thead th {\n",
       "        text-align: right;\n",
       "    }\n",
       "</style>\n",
       "<table border=\"1\" class=\"dataframe\">\n",
       "  <thead>\n",
       "    <tr style=\"text-align: right;\">\n",
       "      <th></th>\n",
       "      <th>census_block_group</th>\n",
       "      <th>raw_visit_count</th>\n",
       "      <th>raw_visitor_count</th>\n",
       "      <th>distance_from_home</th>\n",
       "    </tr>\n",
       "  </thead>\n",
       "  <tbody>\n",
       "    <tr>\n",
       "      <th>0</th>\n",
       "      <td>1.005951e+10</td>\n",
       "      <td>75122.0</td>\n",
       "      <td>18314.0</td>\n",
       "      <td>194724.0</td>\n",
       "    </tr>\n",
       "    <tr>\n",
       "      <th>1</th>\n",
       "      <td>1.009051e+10</td>\n",
       "      <td>95649.0</td>\n",
       "      <td>38942.0</td>\n",
       "      <td>120587.0</td>\n",
       "    </tr>\n",
       "    <tr>\n",
       "      <th>2</th>\n",
       "      <td>1.047957e+10</td>\n",
       "      <td>14009.0</td>\n",
       "      <td>3039.0</td>\n",
       "      <td>67774.0</td>\n",
       "    </tr>\n",
       "    <tr>\n",
       "      <th>3</th>\n",
       "      <td>1.069040e+10</td>\n",
       "      <td>128169.0</td>\n",
       "      <td>25418.0</td>\n",
       "      <td>42684.0</td>\n",
       "    </tr>\n",
       "    <tr>\n",
       "      <th>4</th>\n",
       "      <td>1.073011e+10</td>\n",
       "      <td>51453.0</td>\n",
       "      <td>9499.0</td>\n",
       "      <td>18878.0</td>\n",
       "    </tr>\n",
       "  </tbody>\n",
       "</table>\n",
       "</div>"
      ],
      "text/plain": [
       "   census_block_group  raw_visit_count  raw_visitor_count  distance_from_home\n",
       "0        1.005951e+10          75122.0            18314.0            194724.0\n",
       "1        1.009051e+10          95649.0            38942.0            120587.0\n",
       "2        1.047957e+10          14009.0             3039.0             67774.0\n",
       "3        1.069040e+10         128169.0            25418.0             42684.0\n",
       "4        1.073011e+10          51453.0             9499.0             18878.0"
      ]
     },
     "execution_count": 5,
     "metadata": {},
     "output_type": "execute_result"
    }
   ],
   "source": [
    "df = data[['census_block_group','raw_visit_count','raw_visitor_count','distance_from_home']]\n",
    "df.head()"
   ]
  },
  {
   "cell_type": "markdown",
   "metadata": {},
   "source": [
    "## 设置索引列"
   ]
  },
  {
   "cell_type": "code",
   "execution_count": 6,
   "metadata": {},
   "outputs": [
    {
     "data": {
      "text/html": [
       "<div>\n",
       "<style scoped>\n",
       "    .dataframe tbody tr th:only-of-type {\n",
       "        vertical-align: middle;\n",
       "    }\n",
       "\n",
       "    .dataframe tbody tr th {\n",
       "        vertical-align: top;\n",
       "    }\n",
       "\n",
       "    .dataframe thead th {\n",
       "        text-align: right;\n",
       "    }\n",
       "</style>\n",
       "<table border=\"1\" class=\"dataframe\">\n",
       "  <thead>\n",
       "    <tr style=\"text-align: right;\">\n",
       "      <th></th>\n",
       "      <th>raw_visit_count</th>\n",
       "      <th>raw_visitor_count</th>\n",
       "      <th>distance_from_home</th>\n",
       "    </tr>\n",
       "    <tr>\n",
       "      <th>census_block_group</th>\n",
       "      <th></th>\n",
       "      <th></th>\n",
       "      <th></th>\n",
       "    </tr>\n",
       "  </thead>\n",
       "  <tbody>\n",
       "    <tr>\n",
       "      <th>1.005951e+10</th>\n",
       "      <td>75122.0</td>\n",
       "      <td>18314.0</td>\n",
       "      <td>194724.0</td>\n",
       "    </tr>\n",
       "    <tr>\n",
       "      <th>1.009051e+10</th>\n",
       "      <td>95649.0</td>\n",
       "      <td>38942.0</td>\n",
       "      <td>120587.0</td>\n",
       "    </tr>\n",
       "    <tr>\n",
       "      <th>1.047957e+10</th>\n",
       "      <td>14009.0</td>\n",
       "      <td>3039.0</td>\n",
       "      <td>67774.0</td>\n",
       "    </tr>\n",
       "    <tr>\n",
       "      <th>1.069040e+10</th>\n",
       "      <td>128169.0</td>\n",
       "      <td>25418.0</td>\n",
       "      <td>42684.0</td>\n",
       "    </tr>\n",
       "    <tr>\n",
       "      <th>1.073011e+10</th>\n",
       "      <td>51453.0</td>\n",
       "      <td>9499.0</td>\n",
       "      <td>18878.0</td>\n",
       "    </tr>\n",
       "  </tbody>\n",
       "</table>\n",
       "</div>"
      ],
      "text/plain": [
       "                    raw_visit_count  raw_visitor_count  distance_from_home\n",
       "census_block_group                                                        \n",
       "1.005951e+10                75122.0            18314.0            194724.0\n",
       "1.009051e+10                95649.0            38942.0            120587.0\n",
       "1.047957e+10                14009.0             3039.0             67774.0\n",
       "1.069040e+10               128169.0            25418.0             42684.0\n",
       "1.073011e+10                51453.0             9499.0             18878.0"
      ]
     },
     "execution_count": 6,
     "metadata": {},
     "output_type": "execute_result"
    }
   ],
   "source": [
    "df.set_index('census_block_group',inplace=True)\n",
    "df.head()"
   ]
  },
  {
   "cell_type": "markdown",
   "metadata": {},
   "source": [
    "## 描述性统计"
   ]
  },
  {
   "cell_type": "code",
   "execution_count": 7,
   "metadata": {},
   "outputs": [
    {
     "data": {
      "text/html": [
       "<div>\n",
       "<style scoped>\n",
       "    .dataframe tbody tr th:only-of-type {\n",
       "        vertical-align: middle;\n",
       "    }\n",
       "\n",
       "    .dataframe tbody tr th {\n",
       "        vertical-align: top;\n",
       "    }\n",
       "\n",
       "    .dataframe thead th {\n",
       "        text-align: right;\n",
       "    }\n",
       "</style>\n",
       "<table border=\"1\" class=\"dataframe\">\n",
       "  <thead>\n",
       "    <tr style=\"text-align: right;\">\n",
       "      <th></th>\n",
       "      <th>raw_visit_count</th>\n",
       "      <th>raw_visitor_count</th>\n",
       "      <th>distance_from_home</th>\n",
       "    </tr>\n",
       "  </thead>\n",
       "  <tbody>\n",
       "    <tr>\n",
       "      <th>count</th>\n",
       "      <td>2.206290e+05</td>\n",
       "      <td>2.206290e+05</td>\n",
       "      <td>2.205180e+05</td>\n",
       "    </tr>\n",
       "    <tr>\n",
       "      <th>mean</th>\n",
       "      <td>4.793066e+04</td>\n",
       "      <td>1.182032e+04</td>\n",
       "      <td>3.511280e+04</td>\n",
       "    </tr>\n",
       "    <tr>\n",
       "      <th>std</th>\n",
       "      <td>6.252655e+04</td>\n",
       "      <td>3.045832e+04</td>\n",
       "      <td>9.973193e+04</td>\n",
       "    </tr>\n",
       "    <tr>\n",
       "      <th>min</th>\n",
       "      <td>6.000000e+01</td>\n",
       "      <td>5.000000e+01</td>\n",
       "      <td>7.060000e+02</td>\n",
       "    </tr>\n",
       "    <tr>\n",
       "      <th>25%</th>\n",
       "      <td>1.704200e+04</td>\n",
       "      <td>3.430000e+03</td>\n",
       "      <td>8.584000e+03</td>\n",
       "    </tr>\n",
       "    <tr>\n",
       "      <th>50%</th>\n",
       "      <td>3.064000e+04</td>\n",
       "      <td>6.541000e+03</td>\n",
       "      <td>1.461400e+04</td>\n",
       "    </tr>\n",
       "    <tr>\n",
       "      <th>75%</th>\n",
       "      <td>5.667800e+04</td>\n",
       "      <td>1.309900e+04</td>\n",
       "      <td>3.139775e+04</td>\n",
       "    </tr>\n",
       "    <tr>\n",
       "      <th>max</th>\n",
       "      <td>7.179900e+06</td>\n",
       "      <td>6.113949e+06</td>\n",
       "      <td>6.297845e+06</td>\n",
       "    </tr>\n",
       "  </tbody>\n",
       "</table>\n",
       "</div>"
      ],
      "text/plain": [
       "       raw_visit_count  raw_visitor_count  distance_from_home\n",
       "count     2.206290e+05       2.206290e+05        2.205180e+05\n",
       "mean      4.793066e+04       1.182032e+04        3.511280e+04\n",
       "std       6.252655e+04       3.045832e+04        9.973193e+04\n",
       "min       6.000000e+01       5.000000e+01        7.060000e+02\n",
       "25%       1.704200e+04       3.430000e+03        8.584000e+03\n",
       "50%       3.064000e+04       6.541000e+03        1.461400e+04\n",
       "75%       5.667800e+04       1.309900e+04        3.139775e+04\n",
       "max       7.179900e+06       6.113949e+06        6.297845e+06"
      ]
     },
     "execution_count": 7,
     "metadata": {},
     "output_type": "execute_result"
    }
   ],
   "source": [
    "df.describe()"
   ]
  },
  {
   "cell_type": "markdown",
   "metadata": {},
   "source": [
    "## 查看缺失值情况"
   ]
  },
  {
   "cell_type": "code",
   "execution_count": 8,
   "metadata": {},
   "outputs": [
    {
     "data": {
      "text/plain": [
       "raw_visit_count       0.000480\n",
       "raw_visitor_count     0.000480\n",
       "distance_from_home    0.000983\n",
       "Name: count, dtype: float64"
      ]
     },
     "execution_count": 8,
     "metadata": {},
     "output_type": "execute_result"
    }
   ],
   "source": [
    "1 - (df.describe().T[\"count\"]) / len(df)"
   ]
  },
  {
   "cell_type": "markdown",
   "metadata": {},
   "source": [
    "看到三个特征都存在缺失值"
   ]
  },
  {
   "cell_type": "markdown",
   "metadata": {},
   "source": [
    "## 画直方图"
   ]
  },
  {
   "cell_type": "code",
   "execution_count": 9,
   "metadata": {},
   "outputs": [
    {
     "name": "stdout",
     "output_type": "stream",
     "text": [
      "raw_visit_count\n"
     ]
    },
    {
     "name": "stderr",
     "output_type": "stream",
     "text": [
      "D:\\soft\\Anaconda3\\lib\\site-packages\\numpy\\lib\\histograms.py:839: RuntimeWarning: invalid value encountered in greater_equal\n",
      "  keep = (tmp_a >= first_edge)\n",
      "D:\\soft\\Anaconda3\\lib\\site-packages\\numpy\\lib\\histograms.py:840: RuntimeWarning: invalid value encountered in less_equal\n",
      "  keep &= (tmp_a <= last_edge)\n"
     ]
    },
    {
     "data": {
      "image/png": "[encoded data removed]",
      "text/plain": [
       "<Figure size 432x288 with 1 Axes>"
      ]
     },
     "metadata": {
      "needs_background": "light"
     },
     "output_type": "display_data"
    },
    {
     "name": "stdout",
     "output_type": "stream",
     "text": [
      "raw_visitor_count\n"
     ]
    },
    {
     "data": {
      "image/png": "[encoded data removed]",
      "text/plain": [
       "<Figure size 432x288 with 1 Axes>"
      ]
     },
     "metadata": {
      "needs_background": "light"
     },
     "output_type": "display_data"
    },
    {
     "name": "stdout",
     "output_type": "stream",
     "text": [
      "distance_from_home\n"
     ]
    },
    {
     "data": {
      "image/png": "[encoded data removed]",
      "text/plain": [
       "<Figure size 432x288 with 1 Axes>"
      ]
     },
     "metadata": {
      "needs_background": "light"
     },
     "output_type": "display_data"
    }
   ],
   "source": [
    "for i in df.columns:\n",
    "    print(i)\n",
    "    plt.hist(data[i], bins=200)\n",
    "    plt.show()"
   ]
  },
  {
   "cell_type": "markdown",
   "metadata": {},
   "source": [
    "## 画箱线图"
   ]
  },
  {
   "cell_type": "code",
   "execution_count": 10,
   "metadata": {},
   "outputs": [
    {
     "data": {
      "text/plain": [
       "<matplotlib.axes._subplots.AxesSubplot at 0x27b87446470>"
      ]
     },
     "execution_count": 10,
     "metadata": {},
     "output_type": "execute_result"
    },
    {
     "data": {
      "image/png": "[encoded data removed]",
      "text/plain": [
       "<Figure size 432x288 with 1 Axes>"
      ]
     },
     "metadata": {
      "needs_background": "light"
     },
     "output_type": "display_data"
    }
   ],
   "source": [
    "sns.boxplot(x='raw_visit_count',data=df)"
   ]
  },
  {
   "cell_type": "code",
   "execution_count": 11,
   "metadata": {},
   "outputs": [
    {
     "data": {
      "text/plain": [
       "<matplotlib.axes._subplots.AxesSubplot at 0x27b87218898>"
      ]
     },
     "execution_count": 11,
     "metadata": {},
     "output_type": "execute_result"
    },
    {
     "data": {
      "image/png": "[encoded data removed]",
      "text/plain": [
       "<Figure size 432x288 with 1 Axes>"
      ]
     },
     "metadata": {
      "needs_background": "light"
     },
     "output_type": "display_data"
    }
   ],
   "source": [
    "sns.boxplot(x='raw_visitor_count',data=df)"
   ]
  },
  {
   "cell_type": "code",
   "execution_count": 12,
   "metadata": {},
   "outputs": [
    {
     "data": {
      "text/plain": [
       "<matplotlib.axes._subplots.AxesSubplot at 0x27b87236ba8>"
      ]
     },
     "execution_count": 12,
     "metadata": {},
     "output_type": "execute_result"
    },
    {
     "data": {
      "image/png": "[encoded data removed]",
      "text/plain": [
       "<Figure size 432x288 with 1 Axes>"
      ]
     },
     "metadata": {
      "needs_background": "light"
     },
     "output_type": "display_data"
    }
   ],
   "source": [
    "sns.boxplot(x='distance_from_home',data=df)    "
   ]
  },
  {
   "cell_type": "markdown",
   "metadata": {},
   "source": [
    "## 对raw_visit_count进行缺失值处理"
   ]
  },
  {
   "cell_type": "markdown",
   "metadata": {},
   "source": [
    "## 第一种方法  删除缺失值"
   ]
  },
  {
   "cell_type": "markdown",
   "metadata": {},
   "source": [
    "处理前"
   ]
  },
  {
   "cell_type": "code",
   "execution_count": 13,
   "metadata": {},
   "outputs": [
    {
     "data": {
      "text/plain": [
       "0.0004802138310644466"
      ]
     },
     "execution_count": 13,
     "metadata": {},
     "output_type": "execute_result"
    }
   ],
   "source": [
    "data['raw_visit_count'].describe()\n",
    "1 - (data['raw_visit_count'].describe().T[\"count\"]) / len(data)"
   ]
  },
  {
   "cell_type": "code",
   "execution_count": 14,
   "metadata": {},
   "outputs": [
    {
     "data": {
      "text/plain": [
       "<matplotlib.axes._subplots.AxesSubplot at 0x27b86c9aa90>"
      ]
     },
     "execution_count": 14,
     "metadata": {},
     "output_type": "execute_result"
    },
    {
     "data": {
      "image/png": "[encoded data removed]",
      "text/plain": [
       "<Figure size 1800x720 with 2 Axes>"
      ]
     },
     "metadata": {
      "needs_background": "light"
     },
     "output_type": "display_data"
    }
   ],
   "source": [
    "msno.matrix(data[['raw_visit_count','raw_visitor_count']], labels=True)"
   ]
  },
  {
   "cell_type": "markdown",
   "metadata": {},
   "source": [
    "处理后"
   ]
  },
  {
   "cell_type": "code",
   "execution_count": 15,
   "metadata": {},
   "outputs": [
    {
     "name": "stderr",
     "output_type": "stream",
     "text": [
      "D:\\soft\\Anaconda3\\lib\\site-packages\\pandas\\core\\series.py:4494: SettingWithCopyWarning: \n",
      "A value is trying to be set on a copy of a slice from a DataFrame\n",
      "\n",
      "See the caveats in the documentation: https://pandas.pydata.org/pandas-docs/stable/user_guide/indexing.html#returning-a-view-versus-a-copy\n",
      "  self._update_inplace(result)\n"
     ]
    }
   ],
   "source": [
    "df['raw_visit_count'].dropna(inplace=True)"
   ]
  },
  {
   "cell_type": "code",
   "execution_count": 16,
   "metadata": {},
   "outputs": [
    {
     "data": {
      "text/plain": [
       "0.0"
      ]
     },
     "execution_count": 16,
     "metadata": {},
     "output_type": "execute_result"
    }
   ],
   "source": [
    "1 - (df['raw_visit_count'].describe().T[\"count\"]) / len(df['raw_visit_count'])"
   ]
  },
  {
   "cell_type": "code",
   "execution_count": 17,
   "metadata": {},
   "outputs": [
    {
     "data": {
      "text/plain": [
       "<matplotlib.axes._subplots.AxesSubplot at 0x27b8724a6d8>"
      ]
     },
     "execution_count": 17,
     "metadata": {},
     "output_type": "execute_result"
    },
    {
     "data": {
      "image/png": "[encoded data removed]",
      "text/plain": [
       "<Figure size 1800x720 with 2 Axes>"
      ]
     },
     "metadata": {
      "needs_background": "light"
     },
     "output_type": "display_data"
    }
   ],
   "source": [
    "msno.matrix(df[['raw_visit_count','raw_visitor_count']], labels=True)"
   ]
  },
  {
   "cell_type": "markdown",
   "metadata": {},
   "source": [
    "## 第二种方法 使用众数填补缺失值"
   ]
  },
  {
   "cell_type": "markdown",
   "metadata": {},
   "source": [
    "处理前"
   ]
  },
  {
   "cell_type": "code",
   "execution_count": 18,
   "metadata": {},
   "outputs": [
    {
     "data": {
      "text/plain": [
       "0.0004802138310644466"
      ]
     },
     "execution_count": 18,
     "metadata": {},
     "output_type": "execute_result"
    }
   ],
   "source": [
    "data['raw_visit_count'].describe()\n",
    "1 - (data['raw_visit_count'].describe().T[\"count\"]) / len(data)"
   ]
  },
  {
   "cell_type": "code",
   "execution_count": 19,
   "metadata": {},
   "outputs": [
    {
     "data": {
      "text/plain": [
       "<matplotlib.axes._subplots.AxesSubplot at 0x27b86f7ab00>"
      ]
     },
     "execution_count": 19,
     "metadata": {},
     "output_type": "execute_result"
    },
    {
     "data": {
      "image/png": "[encoded data removed]",
      "text/plain": [
       "<Figure size 1800x720 with 2 Axes>"
      ]
     },
     "metadata": {
      "needs_background": "light"
     },
     "output_type": "display_data"
    }
   ],
   "source": [
    "msno.matrix(data[['raw_visit_count','raw_visitor_count']], labels=True)"
   ]
  },
  {
   "cell_type": "markdown",
   "metadata": {},
   "source": [
    "处理后"
   ]
  },
  {
   "cell_type": "code",
   "execution_count": 20,
   "metadata": {},
   "outputs": [
    {
     "data": {
      "text/plain": [
       "24531.0"
      ]
     },
     "execution_count": 20,
     "metadata": {},
     "output_type": "execute_result"
    }
   ],
   "source": [
    "mod = data['raw_visit_count'].mode()[0]\n",
    "mod"
   ]
  },
  {
   "cell_type": "code",
   "execution_count": 21,
   "metadata": {},
   "outputs": [
    {
     "name": "stderr",
     "output_type": "stream",
     "text": [
      "D:\\soft\\Anaconda3\\lib\\site-packages\\ipykernel_launcher.py:1: SettingWithCopyWarning: \n",
      "A value is trying to be set on a copy of a slice from a DataFrame.\n",
      "Try using .loc[row_indexer,col_indexer] = value instead\n",
      "\n",
      "See the caveats in the documentation: https://pandas.pydata.org/pandas-docs/stable/user_guide/indexing.html#returning-a-view-versus-a-copy\n",
      "  \"\"\"Entry point for launching an IPython kernel.\n"
     ]
    }
   ],
   "source": [
    "df['raw_visit_count'] = df['raw_visit_count'].fillna(mod)"
   ]
  },
  {
   "cell_type": "code",
   "execution_count": 22,
   "metadata": {},
   "outputs": [
    {
     "data": {
      "text/plain": [
       "0.0004802138310644466"
      ]
     },
     "execution_count": 22,
     "metadata": {},
     "output_type": "execute_result"
    }
   ],
   "source": [
    "1 - (df['raw_visit_count'].describe().T[\"count\"]) / len(df['raw_visit_count'])"
   ]
  },
  {
   "cell_type": "code",
   "execution_count": 23,
   "metadata": {},
   "outputs": [
    {
     "data": {
      "text/plain": [
       "<matplotlib.axes._subplots.AxesSubplot at 0x27b87362048>"
      ]
     },
     "execution_count": 23,
     "metadata": {},
     "output_type": "execute_result"
    },
    {
     "data": {
      "image/png": "[encoded data removed]",
      "text/plain": [
       "<Figure size 1800x720 with 2 Axes>"
      ]
     },
     "metadata": {
      "needs_background": "light"
     },
     "output_type": "display_data"
    }
   ],
   "source": [
    "msno.matrix(df[['raw_visit_count','raw_visitor_count']], labels=True)"
   ]
  },
  {
   "cell_type": "markdown",
   "metadata": {},
   "source": [
    "## 第三种方法 使用属性的相关关系填补缺失值"
   ]
  },
  {
   "cell_type": "markdown",
   "metadata": {},
   "source": [
    "属性之间相关性分析"
   ]
  },
  {
   "cell_type": "code",
   "execution_count": 24,
   "metadata": {},
   "outputs": [
    {
     "data": {
      "text/plain": [
       "<matplotlib.axes._subplots.AxesSubplot at 0x27b8ad63320>"
      ]
     },
     "execution_count": 24,
     "metadata": {},
     "output_type": "execute_result"
    },
    {
     "data": {
      "image/png": "[encoded data removed]",
      "text/plain": [
       "<Figure size 864x576 with 1 Axes>"
      ]
     },
     "metadata": {
      "needs_background": "light"
     },
     "output_type": "display_data"
    }
   ],
   "source": [
    "data.plot(kind=\"scatter\",x=\"raw_visit_count\",y=\"raw_visitor_count\",alpha=0.5,figsize=(12,8))"
   ]
  },
  {
   "cell_type": "markdown",
   "metadata": {},
   "source": [
    "处理前"
   ]
  },
  {
   "cell_type": "code",
   "execution_count": 25,
   "metadata": {},
   "outputs": [
    {
     "data": {
      "text/plain": [
       "0.0004802138310644466"
      ]
     },
     "execution_count": 25,
     "metadata": {},
     "output_type": "execute_result"
    }
   ],
   "source": [
    "data['raw_visit_count'].describe()\n",
    "1 - (data['raw_visit_count'].describe().T[\"count\"]) / len(data)"
   ]
  },
  {
   "cell_type": "code",
   "execution_count": 26,
   "metadata": {},
   "outputs": [
    {
     "data": {
      "text/plain": [
       "<matplotlib.axes._subplots.AxesSubplot at 0x27b89826470>"
      ]
     },
     "execution_count": 26,
     "metadata": {},
     "output_type": "execute_result"
    },
    {
     "data": {
      "image/png": "[encoded data removed]",
      "text/plain": [
       "<Figure size 1800x720 with 2 Axes>"
      ]
     },
     "metadata": {
      "needs_background": "light"
     },
     "output_type": "display_data"
    }
   ],
   "source": [
    "msno.matrix(data[['raw_visit_count','raw_visitor_count']], labels=True)"
   ]
  },
  {
   "cell_type": "markdown",
   "metadata": {},
   "source": [
    "处理后"
   ]
  },
  {
   "cell_type": "code",
   "execution_count": 27,
   "metadata": {},
   "outputs": [
    {
     "data": {
      "text/html": [
       "<div>\n",
       "<style scoped>\n",
       "    .dataframe tbody tr th:only-of-type {\n",
       "        vertical-align: middle;\n",
       "    }\n",
       "\n",
       "    .dataframe tbody tr th {\n",
       "        vertical-align: top;\n",
       "    }\n",
       "\n",
       "    .dataframe thead th {\n",
       "        text-align: right;\n",
       "    }\n",
       "</style>\n",
       "<table border=\"1\" class=\"dataframe\">\n",
       "  <thead>\n",
       "    <tr style=\"text-align: right;\">\n",
       "      <th></th>\n",
       "      <th>raw_visit_count</th>\n",
       "      <th>raw_visitor_count</th>\n",
       "    </tr>\n",
       "  </thead>\n",
       "  <tbody>\n",
       "    <tr>\n",
       "      <th>0</th>\n",
       "      <td>75122.0</td>\n",
       "      <td>18314.0</td>\n",
       "    </tr>\n",
       "    <tr>\n",
       "      <th>1</th>\n",
       "      <td>95649.0</td>\n",
       "      <td>38942.0</td>\n",
       "    </tr>\n",
       "    <tr>\n",
       "      <th>2</th>\n",
       "      <td>14009.0</td>\n",
       "      <td>3039.0</td>\n",
       "    </tr>\n",
       "    <tr>\n",
       "      <th>3</th>\n",
       "      <td>128169.0</td>\n",
       "      <td>25418.0</td>\n",
       "    </tr>\n",
       "    <tr>\n",
       "      <th>4</th>\n",
       "      <td>51453.0</td>\n",
       "      <td>9499.0</td>\n",
       "    </tr>\n",
       "  </tbody>\n",
       "</table>\n",
       "</div>"
      ],
      "text/plain": [
       "   raw_visit_count  raw_visitor_count\n",
       "0          75122.0            18314.0\n",
       "1          95649.0            38942.0\n",
       "2          14009.0             3039.0\n",
       "3         128169.0            25418.0\n",
       "4          51453.0             9499.0"
      ]
     },
     "execution_count": 27,
     "metadata": {},
     "output_type": "execute_result"
    }
   ],
   "source": [
    "data[['raw_visit_count','raw_visitor_count']].head()"
   ]
  },
  {
   "cell_type": "code",
   "execution_count": 28,
   "metadata": {},
   "outputs": [],
   "source": [
    "notnulls = data[['raw_visit_count','raw_visitor_count']].loc[data['raw_visit_count'].notnull(),'raw_visit_count']"
   ]
  },
  {
   "cell_type": "code",
   "execution_count": 29,
   "metadata": {},
   "outputs": [],
   "source": [
    "isnulls = data[['raw_visit_count','raw_visitor_count']].loc[data['raw_visit_count'].isnull(),'raw_visit_count']"
   ]
  },
  {
   "cell_type": "code",
   "execution_count": 30,
   "metadata": {},
   "outputs": [
    {
     "data": {
      "text/plain": [
       "106"
      ]
     },
     "execution_count": 30,
     "metadata": {},
     "output_type": "execute_result"
    }
   ],
   "source": [
    "len(isnulls)"
   ]
  },
  {
   "cell_type": "code",
   "execution_count": 31,
   "metadata": {},
   "outputs": [
    {
     "name": "stderr",
     "output_type": "stream",
     "text": [
      "D:\\soft\\Anaconda3\\lib\\site-packages\\pandas\\core\\indexing.py:671: SettingWithCopyWarning: \n",
      "A value is trying to be set on a copy of a slice from a DataFrame\n",
      "\n",
      "See the caveats in the documentation: https://pandas.pydata.org/pandas-docs/stable/user_guide/indexing.html#returning-a-view-versus-a-copy\n",
      "  self._setitem_with_indexer(indexer, value)\n",
      "D:\\soft\\Anaconda3\\lib\\site-packages\\ipykernel_launcher.py:2: SettingWithCopyWarning: \n",
      "A value is trying to be set on a copy of a slice from a DataFrame\n",
      "\n",
      "See the caveats in the documentation: https://pandas.pydata.org/pandas-docs/stable/user_guide/indexing.html#returning-a-view-versus-a-copy\n",
      "  \n"
     ]
    }
   ],
   "source": [
    "import random\n",
    "df.loc[df['raw_visit_count'].isnull(),'raw_visit_count'] = random.sample(list(notnulls),106)"
   ]
  },
  {
   "cell_type": "code",
   "execution_count": 32,
   "metadata": {},
   "outputs": [
    {
     "data": {
      "text/plain": [
       "0.0"
      ]
     },
     "execution_count": 32,
     "metadata": {},
     "output_type": "execute_result"
    }
   ],
   "source": [
    "1 - (df['raw_visit_count'].describe().T[\"count\"]) / len(df['raw_visit_count'])"
   ]
  },
  {
   "cell_type": "code",
   "execution_count": 33,
   "metadata": {},
   "outputs": [
    {
     "data": {
      "text/plain": [
       "<matplotlib.axes._subplots.AxesSubplot at 0x27b8aae6da0>"
      ]
     },
     "execution_count": 33,
     "metadata": {},
     "output_type": "execute_result"
    },
    {
     "data": {
      "image/png": "[encoded data removed]",
      "text/plain": [
       "<Figure size 1800x720 with 2 Axes>"
      ]
     },
     "metadata": {
      "needs_background": "light"
     },
     "output_type": "display_data"
    }
   ],
   "source": [
    "msno.matrix(df[['raw_visit_count','raw_visitor_count']], labels=True)"
   ]
  },
  {
   "cell_type": "markdown",
   "metadata": {},
   "source": [
    "## 第四种方法 使用对象之间相似性填补缺失值"
   ]
  },
  {
   "cell_type": "markdown",
   "metadata": {},
   "source": [
    "处理前"
   ]
  },
  {
   "cell_type": "code",
   "execution_count": 34,
   "metadata": {},
   "outputs": [
    {
     "data": {
      "text/plain": [
       "0.0004802138310644466"
      ]
     },
     "execution_count": 34,
     "metadata": {},
     "output_type": "execute_result"
    }
   ],
   "source": [
    "data['raw_visit_count'].describe()\n",
    "1 - (data['raw_visit_count'].describe().T[\"count\"]) / len(data)"
   ]
  },
  {
   "cell_type": "code",
   "execution_count": 35,
   "metadata": {},
   "outputs": [
    {
     "data": {
      "text/plain": [
       "<matplotlib.axes._subplots.AxesSubplot at 0x27b872c4208>"
      ]
     },
     "execution_count": 35,
     "metadata": {},
     "output_type": "execute_result"
    },
    {
     "data": {
      "image/png": "[encoded data removed]",
      "text/plain": [
       "<Figure size 1800x720 with 2 Axes>"
      ]
     },
     "metadata": {
      "needs_background": "light"
     },
     "output_type": "display_data"
    }
   ],
   "source": [
    "msno.matrix(data[['raw_visit_count','raw_visitor_count']], labels=True)"
   ]
  },
  {
   "cell_type": "code",
   "execution_count": 36,
   "metadata": {},
   "outputs": [],
   "source": [
    "from sklearn.linear_model import LinearRegression"
   ]
  },
  {
   "cell_type": "code",
   "execution_count": 37,
   "metadata": {},
   "outputs": [],
   "source": [
    "model = LinearRegression()"
   ]
  },
  {
   "cell_type": "code",
   "execution_count": 38,
   "metadata": {},
   "outputs": [],
   "source": [
    "data['raw_visitor_count'].fillna(data['raw_visitor_count'].mean(),inplace=True)\n",
    "train = data[['raw_visit_count','raw_visitor_count']].loc[data['raw_visit_count'].notnull()]\n",
    "test = data[['raw_visit_count','raw_visitor_count']].loc[data['raw_visit_count'].isnull()]"
   ]
  },
  {
   "cell_type": "code",
   "execution_count": 39,
   "metadata": {},
   "outputs": [],
   "source": [
    "import numpy as np\n",
    "trainx = np.array(train.raw_visitor_count).reshape(-1,1)\n",
    "testx = np.array(test.raw_visitor_count).reshape(-1,1)\n",
    "trainy = np.array(train.raw_visit_count).reshape(-1,1)"
   ]
  },
  {
   "cell_type": "code",
   "execution_count": 40,
   "metadata": {},
   "outputs": [
    {
     "data": {
      "text/plain": [
       "LinearRegression(copy_X=True, fit_intercept=True, n_jobs=None, normalize=False)"
      ]
     },
     "execution_count": 40,
     "metadata": {},
     "output_type": "execute_result"
    }
   ],
   "source": [
    "model.fit(trainx,trainy)"
   ]
  },
  {
   "cell_type": "code",
   "execution_count": 41,
   "metadata": {},
   "outputs": [],
   "source": [
    "data.loc[data['raw_visit_count'].isnull(),'raw_visit_count'] = model.predict(testx)"
   ]
  },
  {
   "cell_type": "code",
   "execution_count": 42,
   "metadata": {},
   "outputs": [
    {
     "data": {
      "text/plain": [
       "0.0"
      ]
     },
     "execution_count": 42,
     "metadata": {},
     "output_type": "execute_result"
    }
   ],
   "source": [
    "1 - (data['raw_visit_count'].describe().T[\"count\"]) / len(data['raw_visit_count'])"
   ]
  },
  {
   "cell_type": "code",
   "execution_count": 43,
   "metadata": {},
   "outputs": [
    {
     "data": {
      "text/plain": [
       "<matplotlib.axes._subplots.AxesSubplot at 0x27b87124cf8>"
      ]
     },
     "execution_count": 43,
     "metadata": {},
     "output_type": "execute_result"
    },
    {
     "data": {
      "image/png": "[encoded data removed]",
      "text/plain": [
       "<Figure size 1800x720 with 2 Axes>"
      ]
     },
     "metadata": {
      "needs_background": "light"
     },
     "output_type": "display_data"
    }
   ],
   "source": [
    "msno.matrix(df[['raw_visit_count','raw_visitor_count']], labels=True)"
   ]
  }
 ],
 "metadata": {
  "kernelspec": {
   "display_name": "Python 3",
   "language": "python",
   "name": "python3"
  },
  "language_info": {
   "codemirror_mode": {
    "name": "ipython",
    "version": 3
   },
   "file_extension": ".py",
   "mimetype": "text/x-python",
   "name": "python",
   "nbconvert_exporter": "python",
   "pygments_lexer": "ipython3",
   "version": "3.7.0"
  }
 },
 "nbformat": 4,
 "nbformat_minor": 2
}
